{
  "nbformat": 4,
  "nbformat_minor": 0,
  "metadata": {
    "colab": {
      "provenance": [],
      "collapsed_sections": [
        "a0RFqJ4gixPu",
        "AF5mtoPlqHKV",
        "1P-VB4VmqmCe",
        "JWaml_qeq454",
        "5CNH5aPrrIZY",
        "jClgq68BrNoR",
        "8qE6EQ3BrT0o",
        "L8sjdc7DCtp8",
        "CadjD9Oqi5eN",
        "UUeaEE7ZWIxK",
        "fe0R6CW4nMZu",
        "gFISSkPMnR0s",
        "9IvS_rEunVrY",
        "ViQ6XtbUiPvQ",
        "omnel2NtjL_I",
        "YrHsFAFI_n4j",
        "_ZO0fjxJnqXT",
        "Imk7DLjonwSG",
        "fEHjotwljKMs",
        "bCwjAeHkn3s3",
        "GF5XF-tcoOJv",
        "XL7benukoVJS",
        "ss8R0EOpiUsa",
        "HBeYTubPkSRK",
        "fxmd1JAFjPq6"
      ],
      "include_colab_link": true
    },
    "kernelspec": {
      "name": "python3",
      "display_name": "Python 3"
    },
    "language_info": {
      "name": "python"
    }
  },
  "cells": [
    {
      "cell_type": "markdown",
      "metadata": {
        "id": "view-in-github",
        "colab_type": "text"
      },
      "source": [
        "<a href=\"https://colab.research.google.com/github/ea-analisisdatos/Bootcamp-de-Inteligencia-Artificial/blob/main/Funciones_y_modularidad.ipynb\" target=\"_parent\"><img src=\"https://colab.research.google.com/assets/colab-badge.svg\" alt=\"Open In Colab\"/></a>"
      ]
    },
    {
      "cell_type": "markdown",
      "source": [
        "# FUNCIONES Y MODULARIDAD"
      ],
      "metadata": {
        "id": "CyiEzx_5g9sT"
      }
    },
    {
      "cell_type": "markdown",
      "source": [
        "## **01 - Funciones:** Definición, llamadas a funciones, parámetros, retorno de valores y expresiones lambda.\n",
        "\n",
        "\n",
        "\n"
      ],
      "metadata": {
        "id": "pZlPpdb4h7VH"
      }
    },
    {
      "cell_type": "markdown",
      "source": [
        "### - Llamadas a funciones."
      ],
      "metadata": {
        "id": "a0RFqJ4gixPu"
      }
    },
    {
      "cell_type": "markdown",
      "source": [
        "#### 1. Llamada simple"
      ],
      "metadata": {
        "id": "AF5mtoPlqHKV"
      }
    },
    {
      "cell_type": "code",
      "source": [
        "def saludar():\n",
        "    print (\"Hola mundo!\")\n",
        "\n",
        "# Llamada simple a la función.\n",
        "saludar() # Salida: Hola mundo!"
      ],
      "metadata": {
        "colab": {
          "base_uri": "https://localhost:8080/"
        },
        "id": "h4UocF3qJd2X",
        "outputId": "0d82f73f-d66d-40ca-8d09-8218de5c3fb9"
      },
      "execution_count": null,
      "outputs": [
        {
          "output_type": "stream",
          "name": "stdout",
          "text": [
            "Hola mundo!\n"
          ]
        }
      ]
    },
    {
      "cell_type": "markdown",
      "source": [
        "#### 2. Llamada con parámetros"
      ],
      "metadata": {
        "id": "1P-VB4VmqmCe"
      }
    },
    {
      "cell_type": "code",
      "source": [
        "def saludar(nombre):\n",
        "  print (f\"Hola, {nombre}!\")\n",
        "\n",
        "saludar(\"Javier\")"
      ],
      "metadata": {
        "colab": {
          "base_uri": "https://localhost:8080/"
        },
        "id": "f7PIgRi_KFzJ",
        "outputId": "53884dae-696e-4b34-cc2d-288e9fcc7630"
      },
      "execution_count": null,
      "outputs": [
        {
          "output_type": "stream",
          "name": "stdout",
          "text": [
            "Hola, Javier!\n"
          ]
        }
      ]
    },
    {
      "cell_type": "markdown",
      "source": [
        "#### 3. Llamada con múltiples parámetros."
      ],
      "metadata": {
        "id": "JWaml_qeq454"
      }
    },
    {
      "cell_type": "code",
      "source": [
        "def sumar (a,b):\n",
        "  return a + b\n",
        "\n",
        "# Llamada a la función con multiples parámetros.\n",
        "\n",
        "resultado = sumar(5,3)\n",
        "print (resultado) # Salida: 8"
      ],
      "metadata": {
        "colab": {
          "base_uri": "https://localhost:8080/"
        },
        "id": "rXGZC6_DKdvd",
        "outputId": "2bf388f3-ca57-43ee-eefd-6e89fd6de85c"
      },
      "execution_count": null,
      "outputs": [
        {
          "output_type": "stream",
          "name": "stdout",
          "text": [
            "8\n"
          ]
        }
      ]
    },
    {
      "cell_type": "markdown",
      "source": [
        "#### 4. Llamada con Parámetros por Defecto."
      ],
      "metadata": {
        "id": "5CNH5aPrrIZY"
      }
    },
    {
      "cell_type": "code",
      "source": [
        "def saludar (nombre=\"Planeta\"):\n",
        "  print (f\"Hola, {nombre}!\")\n",
        "\n",
        "# Llamada a la función sin parametro (usa el valor por defecto)\n",
        "saludar () # Salida: Hola, Mundo!\n",
        "\n",
        "# Llamada a la función con parametro.\n",
        "saludar (\"Ana\") # Salida: Hola, Ana!"
      ],
      "metadata": {
        "colab": {
          "base_uri": "https://localhost:8080/"
        },
        "id": "hxetvVouK0Mt",
        "outputId": "71ca0f4f-7608-4e01-ac92-23893d373f25"
      },
      "execution_count": null,
      "outputs": [
        {
          "output_type": "stream",
          "name": "stdout",
          "text": [
            "Hola, Planeta!\n",
            "Hola, Ana!\n"
          ]
        }
      ]
    },
    {
      "cell_type": "markdown",
      "source": [
        "#### 5. Llamada con Parámetros Nombrados.\n"
      ],
      "metadata": {
        "id": "jClgq68BrNoR"
      }
    },
    {
      "cell_type": "code",
      "source": [
        "def saludar (nombre, mensaje):\n",
        "    print (f\"{mensaje}, {nombre}!\")\n",
        "\n",
        "# Llamada a la función usando parámetros nombrados.\n",
        "saludar(mensaje=\"Buenos dias\", nombre=\"Luis\") # Salida: Buenos dias, Luis!"
      ],
      "metadata": {
        "colab": {
          "base_uri": "https://localhost:8080/"
        },
        "id": "-ssZ-FTuLZ8g",
        "outputId": "acce4e2d-eeb5-442c-851d-57fd256b3980"
      },
      "execution_count": null,
      "outputs": [
        {
          "output_type": "stream",
          "name": "stdout",
          "text": [
            "Buenos dias, Luis!\n"
          ]
        }
      ]
    },
    {
      "cell_type": "markdown",
      "source": [
        "#### 06. Llamada con número arbitrario de argumentos posicionales (*args)"
      ],
      "metadata": {
        "id": "8qE6EQ3BrT0o"
      }
    },
    {
      "cell_type": "code",
      "source": [
        "def listar_nombres (*nombres):\n",
        "  for nombre in nombres:\n",
        "    print (nombre)\n",
        "\n",
        "# Llamada a la función con múltiples argumentos.\n",
        "listar_nombres(\"Juan\", \"Ana\", \"Luis\") # Es necesario crear tupla, no es valido una lista.\n"
      ],
      "metadata": {
        "colab": {
          "base_uri": "https://localhost:8080/"
        },
        "id": "trh5GyvpL_NA",
        "outputId": "a6b19aaf-a9f7-4f59-f99b-f592cc333e56"
      },
      "execution_count": null,
      "outputs": [
        {
          "output_type": "stream",
          "name": "stdout",
          "text": [
            "Juan\n",
            "Ana\n",
            "Luis\n"
          ]
        }
      ]
    },
    {
      "cell_type": "markdown",
      "source": [
        "#### 07. Llamada con número arbitrario de argumentos nombrados (**kwards)."
      ],
      "metadata": {
        "id": "L8sjdc7DCtp8"
      }
    },
    {
      "cell_type": "code",
      "source": [
        "def describir_persona (**caracteristicas):\n",
        "  for key, value in caracteristicas.items():\n",
        "    print (f\"{key}: {value}\")\n",
        "\n",
        "# Llamada a la función con multiples argumentos nombrados (diccionario).\n",
        "describir_persona (nombre=\"Maria\", edad=30, ciudad=\"Madrid\", pais= \"España\", sexo= \"Mujer\")"
      ],
      "metadata": {
        "colab": {
          "base_uri": "https://localhost:8080/"
        },
        "id": "6AtEA4qkDNcb",
        "outputId": "fdd53f43-08a1-4a50-9bae-aac78c5162e3"
      },
      "execution_count": null,
      "outputs": [
        {
          "output_type": "stream",
          "name": "stdout",
          "text": [
            "nombre: Maria\n",
            "edad: 30\n",
            "ciudad: Madrid\n",
            "pais: España\n",
            "sexo: Mujer\n"
          ]
        }
      ]
    },
    {
      "cell_type": "markdown",
      "source": [
        "### - Parámetros."
      ],
      "metadata": {
        "id": "CadjD9Oqi5eN"
      }
    },
    {
      "cell_type": "code",
      "source": [
        "# Función con Parámetros:\n",
        "\n",
        "def saludar(nombre):\n",
        "    print (\"Hola!\",nombre + \", Bienvenido al bootcamp de IA\")\n",
        "\n",
        "nombre= \"Juan\"\n",
        "\n",
        "# Llamada a la funcion\n",
        "saludar(nombre)"
      ],
      "metadata": {
        "colab": {
          "base_uri": "https://localhost:8080/"
        },
        "id": "DqIySOZ_NEHr",
        "outputId": "2586dbc7-98e0-4a94-c0a8-e592e1f063c3"
      },
      "execution_count": null,
      "outputs": [
        {
          "output_type": "stream",
          "name": "stdout",
          "text": [
            "Hola! Juan, Bienvenido al bootcamp de IA\n"
          ]
        }
      ]
    },
    {
      "cell_type": "code",
      "source": [
        "# Función con parametros por defecto:\n",
        "\n",
        "def saludar (nombre=\"Usuario\"):\n",
        "  print (\"Hola,\", nombre + \", Bienvenido al bootcamp de IA\")\n",
        "\n",
        "# Llamada a la función\n",
        "saludar()\n",
        "saludar(\"Pedro\")"
      ],
      "metadata": {
        "colab": {
          "base_uri": "https://localhost:8080/"
        },
        "id": "Pn8QZvMoNp27",
        "outputId": "653d2003-21a6-4d45-adf3-c5df5ed39dcf"
      },
      "execution_count": null,
      "outputs": [
        {
          "output_type": "stream",
          "name": "stdout",
          "text": [
            "Hola, Usuario, Bienvenido al bootcamp de IA\n",
            "Hola, Pedro, Bienvenido al bootcamp de IA\n"
          ]
        }
      ]
    },
    {
      "cell_type": "markdown",
      "source": [
        "### - Retorno de valores."
      ],
      "metadata": {
        "id": "vnvyUHkWi8HA"
      }
    },
    {
      "cell_type": "code",
      "source": [
        "def suma (a,b):\n",
        "  return a + b\n",
        "\n",
        "# Llamada a la función.\n",
        "resultado = suma (5,3)\n",
        "print (\"La suma es:\", resultado)"
      ],
      "metadata": {
        "colab": {
          "base_uri": "https://localhost:8080/"
        },
        "id": "7fkzNrM7OKUu",
        "outputId": "7e176054-0873-490a-9a30-72c5dd7f41e5"
      },
      "execution_count": null,
      "outputs": [
        {
          "output_type": "stream",
          "name": "stdout",
          "text": [
            "La suma es: 8\n"
          ]
        }
      ]
    },
    {
      "cell_type": "code",
      "source": [
        "def sumar_numeros (*numeros):\n",
        "  suma = 0\n",
        "  for num in numeros:\n",
        "    suma += num\n",
        "  return suma\n",
        "\n",
        "# Llamada a la función.\n",
        "resultado = sumar_numeros (2,10,4,7,5)\n",
        "print (\"La suma es:\", resultado)"
      ],
      "metadata": {
        "colab": {
          "base_uri": "https://localhost:8080/"
        },
        "id": "x_TcnGEJQJEg",
        "outputId": "aa7ee597-954d-40ce-df22-b45a1100a444"
      },
      "execution_count": null,
      "outputs": [
        {
          "output_type": "stream",
          "name": "stdout",
          "text": [
            "La suma es: 28\n"
          ]
        }
      ]
    },
    {
      "cell_type": "code",
      "source": [
        "# Diccionario de argumentos de palabras clave/valor.\n",
        "def describir_persona (**caracteristicas):\n",
        "  for key, value in caracteristicas.items():\n",
        "    print (f\"{key}: {value}\")\n",
        "\n",
        "# Llamada a la función con multiples argumentos nombrados.\n",
        "describir_persona (nombre=\"Maria\", edad=30, ciudad=\"Madrid\", pais= \"España\", sexo= \"Mujer\")\n"
      ],
      "metadata": {
        "colab": {
          "base_uri": "https://localhost:8080/"
        },
        "id": "53g0DiKMZ9ro",
        "outputId": "ac6ff90c-5bcc-41b6-dda7-e6c5d5f07169"
      },
      "execution_count": null,
      "outputs": [
        {
          "output_type": "stream",
          "name": "stdout",
          "text": [
            "nombre: Maria\n",
            "edad: 30\n",
            "ciudad: Madrid\n",
            "pais: España\n",
            "sexo: Mujer\n"
          ]
        }
      ]
    },
    {
      "cell_type": "code",
      "source": [
        "def operaciones_basicas (a,b):\n",
        "  suma = a + b\n",
        "  resta = a - b\n",
        "  multiplicacion = a * b\n",
        "  division = a / b\n",
        "  return suma, resta, multiplicacion, division\n",
        "\n",
        "resultado = operaciones_basicas(10, 2)\n",
        "print (resultado) # Salida: (12, 8, 20, 5.0)\n",
        "\n",
        "# Acceso individual a los resultados.\n",
        "\n",
        "suma, resta, multiplicacion, division = operaciones_basicas (10, 2)\n",
        "print (f\"Suma: {suma}, Resta: {resta}, Multiplicación: {multiplicacion}, División: {division}\")"
      ],
      "metadata": {
        "colab": {
          "base_uri": "https://localhost:8080/"
        },
        "id": "Bfu6iMkMRU8j",
        "outputId": "fb9baf69-8912-4e9e-fc36-f8137f3262fb"
      },
      "execution_count": null,
      "outputs": [
        {
          "output_type": "stream",
          "name": "stdout",
          "text": [
            "(12, 8, 20, 5.0)\n",
            "Suma: 12, Resta: 8, Multiplicación: 20, División: 5.0\n"
          ]
        }
      ]
    },
    {
      "cell_type": "code",
      "source": [
        "def crear_diccionario (nombre, edad, ciudad):\n",
        "  return {\"nombre\": nombre, \"edad\": edad, \"ciudad\": ciudad}\n",
        "\n",
        "resultado = crear_diccionario(nombre='Juan', edad=25, ciudad='Madrid')\n",
        "print (resultado) # Salida: {'nombre': 'Juan', 'edad': 25, 'ciudad': 'Madrid'}"
      ],
      "metadata": {
        "colab": {
          "base_uri": "https://localhost:8080/"
        },
        "id": "Za1CpPjcSsGe",
        "outputId": "52cacae6-a8b5-407b-8a2f-54e775a44cea"
      },
      "execution_count": null,
      "outputs": [
        {
          "output_type": "stream",
          "name": "stdout",
          "text": [
            "{'nombre': 'Juan', 'edad': 25, 'ciudad': 'Madrid'}\n"
          ]
        }
      ]
    },
    {
      "cell_type": "code",
      "source": [
        "def operaciones_basicas (a, b):\n",
        "  suma = a + b\n",
        "  resta = a - b\n",
        "  multiplicacion = a * b\n",
        "  division = a / b\n",
        "  return suma, resta, multiplicacion, division\n",
        "\n",
        "operaciones_basicas(4, 5)"
      ],
      "metadata": {
        "colab": {
          "base_uri": "https://localhost:8080/"
        },
        "id": "W_8TGKdeThmp",
        "outputId": "95f19f50-2437-4d4b-92a9-f3810c8953f1"
      },
      "execution_count": null,
      "outputs": [
        {
          "output_type": "execute_result",
          "data": {
            "text/plain": [
              "(9, -1, 20, 0.8)"
            ]
          },
          "metadata": {},
          "execution_count": 68
        }
      ]
    },
    {
      "cell_type": "code",
      "source": [
        "def crear_diccionario (nombre, edad, ciudad):\n",
        "  return {\"nombre\": nombre, \"edad\": edad, \"ciudad\": ciudad}\n",
        "\n",
        "crear_diccionario (\"Javier\", 18, \"Madrid\")\n"
      ],
      "metadata": {
        "colab": {
          "base_uri": "https://localhost:8080/"
        },
        "id": "yIjrn3A4Wv6M",
        "outputId": "a01b4ae4-84c0-497d-a11f-7ad81f3bc096"
      },
      "execution_count": null,
      "outputs": [
        {
          "output_type": "execute_result",
          "data": {
            "text/plain": [
              "{'nombre': 'Javier', 'edad': 18, 'ciudad': 'Madrid'}"
            ]
          },
          "metadata": {},
          "execution_count": 69
        }
      ]
    },
    {
      "cell_type": "markdown",
      "source": [
        "### - Expresiones Lambda\n",
        "\n",
        "\n",
        "\n",
        "\n",
        "\n",
        "\n"
      ],
      "metadata": {
        "id": "UUeaEE7ZWIxK"
      }
    },
    {
      "cell_type": "markdown",
      "source": [
        "#### Función Lambda para calcular el cuadrado de un número.\n"
      ],
      "metadata": {
        "id": "fe0R6CW4nMZu"
      }
    },
    {
      "cell_type": "code",
      "source": [
        "square = lambda x: x ** 2\n",
        "print (square(3)) # Resultado 9\n",
        "\n",
        "# Función tradicional\n",
        "def square1 (num):\n",
        "  return num ** 2\n",
        "print (square(3)) # Resultado 9"
      ],
      "metadata": {
        "colab": {
          "base_uri": "https://localhost:8080/"
        },
        "id": "CYzSlGJEWpuY",
        "outputId": "c14de431-d634-443c-da3c-10c6e8273111"
      },
      "execution_count": null,
      "outputs": [
        {
          "output_type": "stream",
          "name": "stdout",
          "text": [
            "9\n",
            "9\n"
          ]
        }
      ]
    },
    {
      "cell_type": "markdown",
      "source": [
        "#### Función Lambda para calculo de area de un triangulo.\n"
      ],
      "metadata": {
        "id": "gFISSkPMnR0s"
      }
    },
    {
      "cell_type": "code",
      "source": [
        "area_triangulo = lambda base, altura:(base*altura)/2\n",
        "\n",
        "print (area_triangulo(3,5)) # Resultado 7,5\n",
        "\n",
        "# Función tradicional.\n",
        "def area_triangulo (base, altura):\n",
        "  return (base*altura)/2\n",
        "\n",
        "print (area_triangulo(3,5)) # Resultado 7,5"
      ],
      "metadata": {
        "colab": {
          "base_uri": "https://localhost:8080/"
        },
        "id": "VeAqRENgXCGq",
        "outputId": "2d6e3948-f033-45ac-f77d-c493539cd572"
      },
      "execution_count": null,
      "outputs": [
        {
          "output_type": "stream",
          "name": "stdout",
          "text": [
            "7.5\n",
            "7.5\n"
          ]
        }
      ]
    },
    {
      "cell_type": "markdown",
      "source": [
        "#### Función lambda utilizando condicionales y booleanos.\n"
      ],
      "metadata": {
        "id": "9IvS_rEunVrY"
      }
    },
    {
      "cell_type": "code",
      "source": [
        "lambda_func = lambda x: True if x**2 >= 10 else False\n",
        "lambda_func(3) # Retorna False\n",
        "lambda_func(4) # Retorna True"
      ],
      "metadata": {
        "colab": {
          "base_uri": "https://localhost:8080/"
        },
        "id": "jBpwIZ8KdO4W",
        "outputId": "25617893-6834-4bf1-cb86-f458010f6aaf"
      },
      "execution_count": null,
      "outputs": [
        {
          "output_type": "execute_result",
          "data": {
            "text/plain": [
              "True"
            ]
          },
          "metadata": {},
          "execution_count": 72
        }
      ]
    },
    {
      "cell_type": "markdown",
      "source": [
        "## **02 - Alcance de variables:** Variables locales y globales."
      ],
      "metadata": {
        "id": "ViQ6XtbUiPvQ"
      }
    },
    {
      "cell_type": "markdown",
      "source": [
        "### - Variables globales."
      ],
      "metadata": {
        "id": "omnel2NtjL_I"
      }
    },
    {
      "cell_type": "markdown",
      "source": [
        "#### Lectura de variables globales."
      ],
      "metadata": {
        "id": "YrHsFAFI_n4j"
      }
    },
    {
      "cell_type": "code",
      "source": [
        "global_var = \"Soy una variable global\"\n",
        "\n",
        "def read_global():\n",
        "    print(global_var)\n",
        "\n",
        "read_global()  # Esto mostrará: Soy una variable global"
      ],
      "metadata": {
        "id": "jaQhfJHHTlZn",
        "colab": {
          "base_uri": "https://localhost:8080/"
        },
        "outputId": "4937f748-9f81-4a53-86a3-d581c243e377"
      },
      "execution_count": null,
      "outputs": [
        {
          "output_type": "stream",
          "name": "stdout",
          "text": [
            "Soy una variable global\n"
          ]
        }
      ]
    },
    {
      "cell_type": "markdown",
      "source": [
        "#### Manipulación de variables globales."
      ],
      "metadata": {
        "id": "_ZO0fjxJnqXT"
      }
    },
    {
      "cell_type": "code",
      "source": [
        "variable_global = 'David'\n",
        "\n",
        "def modificar_var(var):\n",
        "  global variable_global\n",
        "  variable_global = 'Jonnathan'\n",
        "  print(variable_global)\n",
        "\n",
        "modificar_var(variable_global)\n",
        "print(variable_global)\n",
        "\n",
        "variable_global = 'Lorenzo estuvo aquí'\n",
        "print(variable_global)"
      ],
      "metadata": {
        "id": "KMjqVn4RXQJj",
        "colab": {
          "base_uri": "https://localhost:8080/"
        },
        "outputId": "104298c9-14e4-4a2f-afbc-551900aed4fe"
      },
      "execution_count": null,
      "outputs": [
        {
          "output_type": "stream",
          "name": "stdout",
          "text": [
            "Jonnathan\n",
            "Jonnathan\n",
            "Lorenzo estuvo aquí\n"
          ]
        }
      ]
    },
    {
      "cell_type": "markdown",
      "source": [
        "#### Manipulación de listas globales."
      ],
      "metadata": {
        "id": "Imk7DLjonwSG"
      }
    },
    {
      "cell_type": "code",
      "source": [
        "global_list = [1, 2, 3]\n",
        "\n",
        "def modify_global_list():\n",
        "    global_list.append(4) # Agrega el valor 4 al final de la lista\n",
        "\n",
        "modify_global_list()\n",
        "print(global_list)  # Mostrará:  [1, 2, 3, 4]"
      ],
      "metadata": {
        "id": "-gTYijcFXTaD",
        "colab": {
          "base_uri": "https://localhost:8080/"
        },
        "outputId": "758ab779-b4a0-48f5-ba94-9eec59460688"
      },
      "execution_count": null,
      "outputs": [
        {
          "output_type": "stream",
          "name": "stdout",
          "text": [
            "[1, 2, 3, 4]\n"
          ]
        }
      ]
    },
    {
      "cell_type": "markdown",
      "source": [
        "### - Variables locales."
      ],
      "metadata": {
        "id": "fEHjotwljKMs"
      }
    },
    {
      "cell_type": "markdown",
      "source": [
        "#### Lectura de variables locales."
      ],
      "metadata": {
        "id": "bCwjAeHkn3s3"
      }
    },
    {
      "cell_type": "code",
      "source": [
        "def read_local():\n",
        "    local_var = \"Soy una variable local\"\n",
        "    print(local_var)\n",
        "\n",
        "read_global()  # Mostrará: Soy una variable local\n",
        "\n",
        "# Manipulacion de listas globales\n",
        "\n",
        "global_list = [1, 2, 3]\n",
        "\n",
        "def modify_global_list():\n",
        "    global_list.append(4)\n",
        "\n",
        "modify_global_list()\n",
        "print(global_list)  # This will print: [1, 2, 3, 4]"
      ],
      "metadata": {
        "id": "S1gATc_14GiV",
        "colab": {
          "base_uri": "https://localhost:8080/"
        },
        "outputId": "ef658cec-fec4-44ce-8477-a7b37a5da6cf"
      },
      "execution_count": null,
      "outputs": [
        {
          "output_type": "stream",
          "name": "stdout",
          "text": [
            "Soy una variable global\n",
            "[1, 2, 3, 4]\n"
          ]
        }
      ]
    },
    {
      "cell_type": "markdown",
      "source": [
        "#### Manipulacion de variables locales."
      ],
      "metadata": {
        "id": "GF5XF-tcoOJv"
      }
    },
    {
      "cell_type": "code",
      "source": [
        "def utilizar_local_var(value):\n",
        "  local_var = value\n",
        "  local_var += 4\n",
        "  print(local_var)\n",
        "\n",
        "utilizar_local_var(6)\n",
        "print(local_var) # Mostrará un error"
      ],
      "metadata": {
        "id": "aySEieYBXYKt",
        "colab": {
          "base_uri": "https://localhost:8080/",
          "height": 198
        },
        "outputId": "6206cf2d-53f7-494d-c32c-7fdf5d5c6b19"
      },
      "execution_count": null,
      "outputs": [
        {
          "output_type": "stream",
          "name": "stdout",
          "text": [
            "10\n"
          ]
        },
        {
          "output_type": "error",
          "ename": "NameError",
          "evalue": "name 'local_var' is not defined",
          "traceback": [
            "\u001b[0;31m---------------------------------------------------------------------------\u001b[0m",
            "\u001b[0;31mNameError\u001b[0m                                 Traceback (most recent call last)",
            "\u001b[0;32m<ipython-input-83-129b246b0aba>\u001b[0m in \u001b[0;36m<cell line: 7>\u001b[0;34m()\u001b[0m\n\u001b[1;32m      5\u001b[0m \u001b[0;34m\u001b[0m\u001b[0m\n\u001b[1;32m      6\u001b[0m \u001b[0mutilizar_local_var\u001b[0m\u001b[0;34m(\u001b[0m\u001b[0;36m6\u001b[0m\u001b[0;34m)\u001b[0m\u001b[0;34m\u001b[0m\u001b[0;34m\u001b[0m\u001b[0m\n\u001b[0;32m----> 7\u001b[0;31m \u001b[0mprint\u001b[0m\u001b[0;34m(\u001b[0m\u001b[0mlocal_var\u001b[0m\u001b[0;34m)\u001b[0m \u001b[0;31m# Mostrará un error\u001b[0m\u001b[0;34m\u001b[0m\u001b[0;34m\u001b[0m\u001b[0m\n\u001b[0m",
            "\u001b[0;31mNameError\u001b[0m: name 'local_var' is not defined"
          ]
        }
      ]
    },
    {
      "cell_type": "markdown",
      "source": [
        "#### Variable global para mantener registro de todas las cuentas y sus balances\n"
      ],
      "metadata": {
        "id": "XL7benukoVJS"
      }
    },
    {
      "cell_type": "code",
      "source": [
        "accounts = {\n",
        "    'Angel': 1000,\n",
        "    'Javier': 1500,\n",
        "    'Erika': 2000\n",
        "}\n",
        "\n",
        "# Función para mostrar balances de cuentas\n",
        "def mostrar_balances():\n",
        "    global accounts\n",
        "    print(\"Balances de cuenta actuales:\")\n",
        "    for account, balance in accounts.items():\n",
        "        print(f\"{account}: ${balance}\")\n",
        "    print(\"\\n\")\n",
        "\n",
        "# Función para depositar dinero en una cuenta\n",
        "def depositar(account_name, amount):\n",
        "    global accounts\n",
        "    if account_name in accounts:\n",
        "        accounts[account_name] += amount\n",
        "        print(f\"Despositado ${amount} en la cuenta de {account_name}.\")\n",
        "    else:\n",
        "        print(f\"La cuenta {account_name} no existe.\")\n",
        "\n",
        "# Función para retirar dinero de una cuenta\n",
        "def retirar(account_name, amount):\n",
        "    global accounts\n",
        "    if account_name in accounts:\n",
        "        if accounts[account_name] >= amount:\n",
        "            accounts[account_name] -= amount\n",
        "            print(f\"Se retiró ${amount} de la cuenta de {account_name}.\")\n",
        "        else:\n",
        "            print(f\"Fondos insuficientes en la cuenta de {account_name}.\")\n",
        "    else:\n",
        "        print(f\"La cuenta {account_name}.\")\n",
        "\n",
        "# Función para transferir dinero de una cuenta a otra\n",
        "def transferir(from_account, to_account, amount):\n",
        "    global accounts\n",
        "    if from_account in accounts and to_account in accounts:\n",
        "        if accounts[from_account] >= amount:\n",
        "            accounts[from_account] -= amount\n",
        "            accounts[to_account] += amount\n",
        "            print(f\"Transferido ${amount} de {from_account} a {to_account}.\")\n",
        "        else:\n",
        "            print(f\"Fondos insuficientes en la cuenta de {from_account}.\")\n",
        "    else:\n",
        "        print(\"Una o más cuentas no existen.\")\n",
        "\n",
        "# Función para simular una serie de transacciones\n",
        "def simular_transaccion():\n",
        "    print(\"Comenzando transacciones...\\n\")\n",
        "    mostrar_balances()\n",
        "\n",
        "    # Variable local para detalles de transacciones\n",
        "    transactions = [\n",
        "        ('depósito', 'Angel', 500),\n",
        "        ('retiro de dinero', 'Erika', 200),\n",
        "        ('transferencia', 'Lorenzo', 'Alejandra', 300),\n",
        "        ('retiro de dinero', 'Ingo', 500),\n",
        "        ('transferencia', 'Angel', 'Erika', 700)\n",
        "    ]\n",
        "\n",
        "    for transaction in transactions:\n",
        "        type_of_transaction = transaction[0]\n",
        "\n",
        "        if type_of_transaction == 'depósito':\n",
        "            _, account, amount = transaction\n",
        "            depositar(account, amount)\n",
        "        elif type_of_transaction == 'retiro de dinero':\n",
        "            _, account, amount = transaction\n",
        "            retirar(account, amount)\n",
        "        elif type_of_transaction == 'transferencia':\n",
        "            _, from_account, to_account, amount = transaction\n",
        "            transferir(from_account, to_account, amount)\n",
        "        else:\n",
        "            print(\"Tipo de transacción desconocida.\")\n",
        "\n",
        "        mostrar_balances()\n",
        "\n",
        "# Ejecutar simulación\n",
        "simular_transaccion()"
      ],
      "metadata": {
        "id": "LgIvibxE0XOr"
      },
      "execution_count": null,
      "outputs": []
    },
    {
      "cell_type": "markdown",
      "source": [
        "## **03 - Importación de módulos:** Uso de bibliotecas estándar"
      ],
      "metadata": {
        "id": "ss8R0EOpiUsa"
      }
    },
    {
      "cell_type": "markdown",
      "source": [
        "###**- Definición de modulo y biblioteca.**###"
      ],
      "metadata": {
        "id": "HBeYTubPkSRK"
      }
    },
    {
      "cell_type": "markdown",
      "source": [
        "Un **módulo** es un archivo de Python que contiene definiciones y declaraciones de variables, funciones, clases, etc. Un módulo se crea guardando el código en un archivo con la extensión .py.\n",
        "\n",
        "Una **biblioteca** es una colección de varios módulos. Es decir, una biblioteca puede contener uno o más módulos que proporcionan funcionalidades relacionadas.\n",
        "\n",
        "Al conjunto de módulos preinstalados que vienen con Python se denomina **biblioteca estándard**. Éstos módulos proporcionan herramientas para realizar tareas comunes. Ejemplos de módulos estándar:\n"
      ],
      "metadata": {
        "id": "CnUsdNFyos1S"
      }
    },
    {
      "cell_type": "code",
      "source": [
        "# math es un módulo que proporciona funciones matemáticas\n",
        "import math\n",
        "print(math.sqrt(16))  # Imprime: 4.0\n",
        "\n",
        "# datetime es un módulo que proporciona clases para manipular fechas y horas\n",
        "import datetime\n",
        "print(datetime.date.today())  # Imprime la fecha de hoy\n",
        "\n",
        "# os es un módulo que proporciona funciones para interactuar con el sistema operativo\n",
        "import os\n",
        "print(os.getcwd())  # Imprime el directorio de trabajo actual\n",
        "\n",
        "# sys: acceso a variables y funciones específicas del sistema.\n",
        "import sys\n",
        "print(sys.version) # Imprimir la versión de Python\n"
      ],
      "metadata": {
        "id": "pfZ8op6m0syj"
      },
      "execution_count": null,
      "outputs": []
    },
    {
      "cell_type": "code",
      "source": [
        "# modulo1.py\n",
        "variable_global = \"David\""
      ],
      "metadata": {
        "id": "YfSkBQJolbdG"
      },
      "execution_count": null,
      "outputs": []
    },
    {
      "cell_type": "code",
      "source": [
        "# modulo2.py\n",
        "import modulo1\n",
        "\n",
        "print(modulo1.variable_global)\n",
        "\n",
        "def modificar_variable(var):\n",
        "    modulo1.variable_global = \"Jonnathan\"\n",
        "    print(modulo1.variable_global)\n",
        "\n",
        "modificar_variable(modulo1.variable_global)"
      ],
      "metadata": {
        "id": "zJPlG0rUlZkR"
      },
      "execution_count": null,
      "outputs": []
    },
    {
      "cell_type": "markdown",
      "source": [
        "###**- Instalación de bibliotecas.**###"
      ],
      "metadata": {
        "id": "fxmd1JAFjPq6"
      }
    },
    {
      "cell_type": "markdown",
      "source": [
        "Para instalar una biblioteca en Python, comúnmente se utiliza **pip**, que es el gestor de paquetes oficial para Python.\n",
        "\n",
        "Pasos:\n",
        "\n",
        "**Paso 1**: **Verificar si pip está instalado.**\n",
        " Primero, asegúrate de que pip está instalado en tu sistema. Puedes verificarlo ejecutando el siguiente comando en tu terminal o línea de comandos:"
      ],
      "metadata": {
        "id": "dOxWwnHS8Xxs"
      }
    },
    {
      "cell_type": "code",
      "source": [
        "pip --version"
      ],
      "metadata": {
        "id": "T03vaDbl8fZr"
      },
      "execution_count": null,
      "outputs": []
    },
    {
      "cell_type": "markdown",
      "source": [
        "Si pip está instalado, verás la versión de pip que tienes instalada. Si no está instalado, puedes instalarlo siguiendo las instrucciones en el sitio oficial de pip."
      ],
      "metadata": {
        "id": "PZExZqWyJ2ET"
      }
    },
    {
      "cell_type": "markdown",
      "source": [
        "**Paso 2**: **Instalar la biblioteca.**\n",
        "Para instalar una biblioteca, usa el siguiente comando en la terminal o línea de comandos:\n"
      ],
      "metadata": {
        "id": "OtddxY1m8gfz"
      }
    },
    {
      "cell_type": "code",
      "source": [
        "pip install nombre_de_la_biblioteca\n",
        "#Por ejemplo, para instalar la biblioteca requests, ejecutarías:\n",
        "pip install requests"
      ],
      "metadata": {
        "id": "Sd2pYmPK86l7"
      },
      "execution_count": null,
      "outputs": []
    },
    {
      "cell_type": "markdown",
      "source": [
        "**Paso 3**: **Verificar la instalación**\n",
        "Después de instalar la biblioteca puedes verificar si la instalación fue exitosa intentando importarla en un script de Python o en la consola interactiva de Python:"
      ],
      "metadata": {
        "id": "gCLYBjL09CB9"
      }
    },
    {
      "cell_type": "code",
      "source": [
        "import requests\n",
        "\n",
        "print(requests.__version__)"
      ],
      "metadata": {
        "id": "CFdUZkl79Jpl"
      },
      "execution_count": null,
      "outputs": []
    },
    {
      "cell_type": "markdown",
      "source": [
        "Ejemplos de instalación de bibliotecas populares:\n",
        "\n",
        "Instalar NumPy (para computación numérica):"
      ],
      "metadata": {
        "id": "MhkaxaG_-wIk"
      }
    },
    {
      "cell_type": "code",
      "source": [
        "pip install numpy"
      ],
      "metadata": {
        "id": "f5bGDgaN-zhU"
      },
      "execution_count": null,
      "outputs": []
    },
    {
      "cell_type": "markdown",
      "source": [
        "Instalar Pandas (para manipulación y análisis de datos):"
      ],
      "metadata": {
        "id": "Txykaou6-84k"
      }
    },
    {
      "cell_type": "code",
      "source": [
        "pip install pandas"
      ],
      "metadata": {
        "id": "7kBJ3gUJ_Aaj"
      },
      "execution_count": null,
      "outputs": []
    },
    {
      "cell_type": "markdown",
      "source": [
        "Instalar Matplotlib (para visualización de datos):"
      ],
      "metadata": {
        "id": "9zhy1Xn8_CVL"
      }
    },
    {
      "cell_type": "code",
      "source": [
        "pip install matplotlib"
      ],
      "metadata": {
        "id": "ReFh5Fyh_Ffb"
      },
      "execution_count": null,
      "outputs": []
    },
    {
      "cell_type": "markdown",
      "source": [
        "Uso de bibliotecas"
      ],
      "metadata": {
        "id": "AYZapbySIoV6"
      }
    },
    {
      "cell_type": "code",
      "source": [
        "import pandas as pd\n",
        "\n"
      ],
      "metadata": {
        "id": "uF2DGrGpItTs"
      },
      "execution_count": null,
      "outputs": []
    }
  ]
}