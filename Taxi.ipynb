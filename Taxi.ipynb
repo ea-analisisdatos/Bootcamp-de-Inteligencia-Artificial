{
 "cells": [
  {
   "cell_type": "code",
   "execution_count": null,
   "metadata": {},
   "outputs": [],
   "source": [
    "import threading\n",
    "taximetro = True\n",
    "movimiento = True # condicion de parada o marcha\n",
    "\n",
    "def precio():\n",
    "    if movimiento:\n",
    "        precio += 0.05\n",
    "    else:\n",
    "        precio += 0.02\n",
    "\n",
    "\n",
    "while taximetro:\n",
    "    threading.timer(precio, 1)"
   ]
  }
 ],
 "metadata": {
  "language_info": {
   "name": "python"
  }
 },
 "nbformat": 4,
 "nbformat_minor": 2
}
