{
 "cells": [
  {
   "cell_type": "markdown",
   "metadata": {},
   "source": [
    "# NOTA\n",
    "Para desarrollar este prototipo de taxímetro digital en Python utilizando clases y POO (Programación Orientada a Objetos), será creado una clase Taximetro que manejará el estado y la lógica de cálculo de tarifas durante la carrera del taxi.\n",
    "\n",
    "## Explicación del Código:\n",
    "\n",
    "- **Clase Taximetro:** Contiene métodos para iniciar y terminar la carrera, así como para agregar tiempo de movimiento y tiempo parado.\n",
    "\n",
    "- **Método iniciar_carrera:** Marca el inicio de la carrera, registra el tiempo de inicio usando time.time().\n",
    "\n",
    "- **Método terminar_carrera:** Calcula el total cobrado dependiendo del tiempo total de la carrera y muestra el resultado en Euros.\n",
    "\n",
    "- Métodos agregar_tiempo_movimiento y agregar_tiempo_parado: Añaden tiempo al total cobrado según las tarifas definidas cuando el taxi está en movimiento o parado.\n",
    "\n",
    "- **Ejemplo de uso: En el `if __name__ == \"__main__\":`** simulamos una carrera con tiempos de movimiento y parada, y finalmente terminamos la carrera para obtener el total cobrado.\n",
    "\n",
    "Este código cumple con los requisitos especificados y utiliza POO para encapsular la lógica de negocio del taxímetro digital. Puedes ejecutarlo para simular una carrera de taxi y ver cómo se calculan las tarifas en función del estado del taxi (movimiento o parado)."
   ]
  },
  {
   "cell_type": "code",
   "execution_count": 3,
   "metadata": {},
   "outputs": [
    {
     "name": "stdout",
     "output_type": "stream",
     "text": [
      "La carrera ha comenzado.\n",
      "Se ha agregado tiempo de parada: 10 segundos.\n",
      "Se ha agregado tiempo de movimiento: 5 segundos.\n",
      "Se ha agregado tiempo de movimiento: 25 segundos.\n",
      "La carrera ha terminado. Total cobrado: 9.30 Euros.\n"
     ]
    }
   ],
   "source": [
    "import time\n",
    "\n",
    "class Taximetro:\n",
    "    def __init__(self):\n",
    "        self.carrera_iniciada = False\n",
    "        self.tiempo_inicio = None\n",
    "        self.tiempo_fin = None\n",
    "        self.tarifa_parado = 0.02  # Tarifa en céntimos por segundo cuando el taxi está parado\n",
    "        self.tarifa_movimiento = 0.05  # Tarifa en céntimos por segundo cuando el taxi está en movimiento\n",
    "        self.total_cobrado = 0.0\n",
    "\n",
    "    def iniciar_carrera(self):\n",
    "        if not self.carrera_iniciada:\n",
    "            self.carrera_iniciada = True\n",
    "            self.tiempo_inicio = time.time()\n",
    "            print(\"La carrera ha comenzado.\")\n",
    "\n",
    "    def terminar_carrera(self):\n",
    "        if self.carrera_iniciada:\n",
    "            self.carrera_iniciada = False\n",
    "            self.tiempo_fin = time.time()\n",
    "            tiempo_total = self.tiempo_fin - self.tiempo_inicio\n",
    "            self.total_cobrado = tiempo_total * (self.tarifa_parado if tiempo_total < 1 else self.tarifa_movimiento)\n",
    "            print(f\"La carrera ha terminado. Total cobrado: {self.total_cobrado:.2f} Euros.\")\n",
    "        else:\n",
    "            print(\"La carrera no ha comenzado.\")\n",
    "\n",
    "    def agregar_tiempo_movimiento(self, segundos):\n",
    "        if self.carrera_iniciada:\n",
    "            self.total_cobrado += segundos * self.tarifa_movimiento\n",
    "            print(f\"Se ha agregado tiempo de movimiento: {segundos} segundos.\")\n",
    "        else:\n",
    "            print(\"La carrera no ha comenzado.\")\n",
    "\n",
    "    def agregar_tiempo_parado(self, segundos):\n",
    "        if self.carrera_iniciada:\n",
    "            self.total_cobrado += segundos * self.tarifa_parado\n",
    "            print(f\"Se ha agregado tiempo de parada: {segundos} segundos.\")\n",
    "        else:\n",
    "            print(\"La carrera no ha comenzado.\")\n",
    "\n",
    "# Ejemplo de uso del taxímetro\n",
    "if __name__ == \"__main__\":\n",
    "    taximetro = Taximetro()\n",
    "\n",
    "    # Simulación de la carrera\n",
    "    input(\"Presione Enter para iniciar la carrera...\")\n",
    "    taximetro.iniciar_carrera()\n",
    "\n",
    "    # Simulación de tiempo parado (10 segundos)\n",
    "    time.sleep(10)\n",
    "    taximetro.agregar_tiempo_parado(10)\n",
    "\n",
    "    # Simulación de tiempo en movimiento (30 segundos)\n",
    "    time.sleep(5)\n",
    "    taximetro.agregar_tiempo_movimiento(5)\n",
    "    time.sleep(25)\n",
    "    taximetro.agregar_tiempo_movimiento(25)\n",
    "\n",
    "    # Finalización de la carrera\n",
    "    input(\"Presione Enter para terminar la carrera...\")\n",
    "    taximetro.terminar_carrera()\n"
   ]
  }
 ],
 "metadata": {
  "kernelspec": {
   "display_name": "Python 3",
   "language": "python",
   "name": "python3"
  },
  "language_info": {
   "codemirror_mode": {
    "name": "ipython",
    "version": 3
   },
   "file_extension": ".py",
   "mimetype": "text/x-python",
   "name": "python",
   "nbconvert_exporter": "python",
   "pygments_lexer": "ipython3",
   "version": "3.12.3"
  }
 },
 "nbformat": 4,
 "nbformat_minor": 2
}
